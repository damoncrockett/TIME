{
 "cells": [
  {
   "cell_type": "markdown",
   "metadata": {},
   "source": [
    "## HSV t-SNE maps with TIME vault data"
   ]
  },
  {
   "cell_type": "markdown",
   "metadata": {},
   "source": [
    "Damon Crockett, Software Studies, UCSD, damoncrockett@gmail.com"
   ]
  },
  {
   "cell_type": "code",
   "execution_count": 64,
   "metadata": {
    "collapsed": true
   },
   "outputs": [],
   "source": [
    "import pandas as pd\n",
    "import os\n",
    "import numpy as np"
   ]
  },
  {
   "cell_type": "code",
   "execution_count": 11,
   "metadata": {
    "collapsed": false
   },
   "outputs": [],
   "source": [
    "from skimage.io import imread\n",
    "from skimage.exposure import histogram\n",
    "from skimage import color"
   ]
  },
  {
   "cell_type": "code",
   "execution_count": null,
   "metadata": {
    "collapsed": true
   },
   "outputs": [],
   "source": [
    "local_path = []"
   ]
  },
  {
   "cell_type": "code",
   "execution_count": 41,
   "metadata": {
    "collapsed": true
   },
   "outputs": [],
   "source": [
    "DIR = \"/Users/damoncrockett/Desktop/TIME/sample/\""
   ]
  },
  {
   "cell_type": "code",
   "execution_count": 42,
   "metadata": {
    "collapsed": true
   },
   "outputs": [],
   "source": [
    "local_path = []\n",
    "for root,dirs,files in os.walk(DIR):\n",
    "    for file in files:\n",
    "        local_path.append(root+file)"
   ]
  },
  {
   "cell_type": "code",
   "execution_count": 43,
   "metadata": {
    "collapsed": true
   },
   "outputs": [],
   "source": [
    "df = pd.DataFrame(local_path,columns=['local_path'])"
   ]
  },
  {
   "cell_type": "code",
   "execution_count": 46,
   "metadata": {
    "collapsed": true
   },
   "outputs": [],
   "source": [
    "sizedim = []"
   ]
  },
  {
   "cell_type": "code",
   "execution_count": 47,
   "metadata": {
    "collapsed": false
   },
   "outputs": [],
   "source": [
    "for path in df.local_path:\n",
    "    try:\n",
    "        im = color.rgb2hsv(imread(path))\n",
    "        sizedim.append(im.shape)\n",
    "    except:\n",
    "        sizedim.append(\"unreadable\")"
   ]
  },
  {
   "cell_type": "code",
   "execution_count": 48,
   "metadata": {
    "collapsed": true
   },
   "outputs": [],
   "source": [
    "df['sizedim'] = sizedim"
   ]
  },
  {
   "cell_type": "code",
   "execution_count": 58,
   "metadata": {
    "collapsed": true
   },
   "outputs": [],
   "source": [
    "df = df[df.sizedim!=\"unreadable\"]"
   ]
  },
  {
   "cell_type": "code",
   "execution_count": 68,
   "metadata": {
    "collapsed": true
   },
   "outputs": [],
   "source": [
    "df.reset_index(drop=True,inplace=True)"
   ]
  },
  {
   "cell_type": "code",
   "execution_count": 92,
   "metadata": {
    "collapsed": true
   },
   "outputs": [],
   "source": [
    "df.to_csv(\"./TIME_sample.csv\",index=False)"
   ]
  },
  {
   "cell_type": "code",
   "execution_count": 66,
   "metadata": {
    "collapsed": false
   },
   "outputs": [],
   "source": [
    "hist_vector = []\n",
    "for path in df.local_path:\n",
    "    im = color.rgb2hsv(imread(path))\n",
    "\n",
    "    h = histogram(im[:,:,0],nbins=8)[0]\n",
    "    h = h/float(sum(h)) # norming as probabilities\n",
    "\n",
    "    s = histogram(im[:,:,1],nbins=8)[0]\n",
    "    s = s/float(sum(s))\n",
    "\n",
    "    v = histogram(im[:,:,2],nbins=8)[0]\n",
    "    v = v/float(sum(v))\n",
    "\n",
    "    vector = np.concatenate((h,s,v))\n",
    "    hist_vector.append(vector)\n",
    "        \n",
    "X = np.vstack(hist_vector)\n",
    "d = pd.DataFrame(X)"
   ]
  },
  {
   "cell_type": "markdown",
   "metadata": {},
   "source": [
    "#### Now to send file to R to make the histlines"
   ]
  },
  {
   "cell_type": "code",
   "execution_count": 70,
   "metadata": {
    "collapsed": true
   },
   "outputs": [],
   "source": [
    "d.to_csv(\"./X.csv\",index=False)"
   ]
  },
  {
   "cell_type": "code",
   "execution_count": null,
   "metadata": {
    "collapsed": true
   },
   "outputs": [],
   "source": [
    "# Check histlines.R for code; add the histline image files to df"
   ]
  },
  {
   "cell_type": "code",
   "execution_count": 79,
   "metadata": {
    "collapsed": false
   },
   "outputs": [
    {
     "name": "stderr",
     "output_type": "stream",
     "text": [
      "/Library/Python/2.7/site-packages/ipykernel/__main__.py:1: SettingWithCopyWarning: \n",
      "A value is trying to be set on a copy of a slice from a DataFrame.\n",
      "Try using .loc[row_indexer,col_indexer] = value instead\n",
      "\n",
      "See the the caveats in the documentation: http://pandas.pydata.org/pandas-docs/stable/indexing.html#indexing-view-versus-copy\n",
      "  if __name__ == '__main__':\n"
     ]
    }
   ],
   "source": [
    "df['histline'] = [\"/Users/damoncrockett/Desktop/TIME/histlines/\"+str(item)+\".jpg\" for item in range(0,len(d))]"
   ]
  },
  {
   "cell_type": "markdown",
   "metadata": {},
   "source": [
    "#### Now the plotting loop"
   ]
  },
  {
   "cell_type": "code",
   "execution_count": 85,
   "metadata": {
    "collapsed": true
   },
   "outputs": [],
   "source": [
    "from sklearn.manifold import TSNE as tsne\n",
    "from PIL import Image, ImageDraw\n",
    "from shapely.geometry import Point"
   ]
  },
  {
   "cell_type": "code",
   "execution_count": 86,
   "metadata": {
    "collapsed": true
   },
   "outputs": [],
   "source": [
    "crit = np.sqrt(2) # adjacency"
   ]
  },
  {
   "cell_type": "code",
   "execution_count": 87,
   "metadata": {
    "collapsed": true
   },
   "outputs": [],
   "source": [
    "thumb_side = 128"
   ]
  },
  {
   "cell_type": "code",
   "execution_count": 88,
   "metadata": {
    "collapsed": true
   },
   "outputs": [],
   "source": [
    "PRE = \"/Users/damoncrockett/Desktop/TIME/\""
   ]
  },
  {
   "cell_type": "code",
   "execution_count": 91,
   "metadata": {
    "collapsed": false
   },
   "outputs": [],
   "source": [
    "num_bin = 3 * int(round( np.sqrt( len(df) / np.pi ) )) # circle that fits square, fill 'factor'==3\n",
    "\n",
    "tsne_obj = tsne(n_components=2)\n",
    "\n",
    "subspace_tsne = pd.DataFrame(tsne_obj.fit_transform(X),columns=[\"x\",\"y\"])\n",
    "subspace_tsne['grid_x'] = pd.cut(subspace_tsne['x'],num_bin,labels=False)\n",
    "subspace_tsne['grid_y'] = pd.cut(subspace_tsne['y'],num_bin,labels=False)\n",
    "subspace_tsne['local_path'] = df.local_path\n",
    "\n",
    "grid_side = num_bin \n",
    "px_w = thumb_side * grid_side\n",
    "px_h = thumb_side * grid_side\n",
    "\n",
    "x,y = range(grid_side) * grid_side, np.repeat(range(grid_side),grid_side)\n",
    "grid_list = pd.DataFrame(x,columns=['x'])\n",
    "grid_list['y'] = y\n",
    "\n",
    "point = []\n",
    "for i in range(len(grid_list)):\n",
    "    point.append(Point(grid_list.x.loc[i],grid_list.y.loc[i]))\n",
    "\n",
    "grid_list['point'] = point\n",
    "\n",
    "open_grid = list(grid_list.point)\n",
    "canvas = Image.new('RGB',(px_w,px_h),(50,50,50))\n",
    "plotted_dict = {}\n",
    "\n",
    "plotted = 0\n",
    "for i in np.random.permutation(np.arange(np.round(len(subspace_tsne)))):\n",
    "    im = Image.open(subspace_tsne.local_path.loc[i])\n",
    "    im.thumbnail((thumb_side,thumb_side),Image.ANTIALIAS)\n",
    "    x = subspace_tsne.grid_x.loc[i] * thumb_side \n",
    "    y = subspace_tsne.grid_y.loc[i] * thumb_side \n",
    "    grid_point = Point((subspace_tsne.grid_x.loc[i],subspace_tsne.grid_y.loc[i]))\n",
    "\n",
    "    if grid_point in open_grid:\n",
    "        canvas.paste(im,(x,y))\n",
    "        open_grid.remove(grid_point)\n",
    "        plotted_dict[grid_point] = subspace_tsne.local_path.loc[i]\n",
    "        plotted+=1\n",
    "\n",
    "    elif len(open_grid) == 0:\n",
    "        break\n",
    "\n",
    "    else:\n",
    "        closest_open = min(open_grid,key=lambda x: grid_point.distance(x))\n",
    "        if grid_point.distance(closest_open) <= crit: # adjacency criterion\n",
    "            x = int(closest_open.x) * thumb_side\n",
    "            y = int(closest_open.y) * thumb_side\n",
    "            canvas.paste(im,(x,y))\n",
    "            open_grid.remove(closest_open)\n",
    "            plotted_dict[closest_open] = subspace_tsne.local_path.loc[i]\n",
    "            plotted+=1\n",
    "\n",
    "tagged=0\n",
    "for grid_point in plotted_dict:         \n",
    "    closest_open = min(open_grid,key=lambda x: grid_point.distance(x))\n",
    "    if grid_point.distance(closest_open) == 1: # strict adjacency          \n",
    "        local_path = plotted_dict[grid_point]\n",
    "        tmp = df[df.local_path==local_path]\n",
    "        template = Image.open(tmp.histline.iloc[0])\n",
    "        template.thumbnail((thumb_side,thumb_side),Image.ANTIALIAS)\n",
    "        draw = ImageDraw.Draw(template)\n",
    "\n",
    "        if grid_point.x > closest_open.x:\n",
    "            draw.rectangle([(120,55),(128,61)],outline=(30, 144, 255),fill=(30, 144, 255))\n",
    "        if grid_point.x < closest_open.x:\n",
    "            draw.rectangle([(0,55),(6,61)],outline=(30, 144, 255),fill=(30, 144, 255))\n",
    "        if grid_point.y < closest_open.y:\n",
    "            draw.rectangle([(55,0),(61,6)],outline=(30, 144, 255),fill=(30, 144, 255))\n",
    "        if grid_point.y > closest_open.y:\n",
    "            draw.rectangle([(55,120),(61,128)],outline=(30, 144, 255),fill=(30, 144, 255))\n",
    "\n",
    "        x = int(closest_open.x) * thumb_side\n",
    "        y = int(closest_open.y) * thumb_side\n",
    "        canvas.paste(template,(x,y))\n",
    "        open_grid.remove(closest_open)\n",
    "\n",
    "        tagged+=1\n",
    "\n",
    "tag_prop = str(np.round(float(tagged)/plotted,2)).lstrip(\".\")\n",
    "prop = str(int(round(plotted*100/len(subspace_tsne))))\n",
    "canvas.save(PRE+\"_\"+str(num_bin)+\"_\"+prop+\"_\"+\"_\"+str(plotted)+\"_\"+str(tagged)+\"_\"+tag_prop+\".png\")"
   ]
  },
  {
   "cell_type": "code",
   "execution_count": null,
   "metadata": {
    "collapsed": true
   },
   "outputs": [],
   "source": []
  }
 ],
 "metadata": {
  "kernelspec": {
   "display_name": "Python 2",
   "language": "python",
   "name": "python2"
  },
  "language_info": {
   "codemirror_mode": {
    "name": "ipython",
    "version": 2
   },
   "file_extension": ".py",
   "mimetype": "text/x-python",
   "name": "python",
   "nbconvert_exporter": "python",
   "pygments_lexer": "ipython2",
   "version": "2.7.10"
  }
 },
 "nbformat": 4,
 "nbformat_minor": 0
}
